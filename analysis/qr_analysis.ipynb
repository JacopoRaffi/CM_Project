{
 "cells": [
  {
   "cell_type": "code",
   "execution_count": 7,
   "metadata": {},
   "outputs": [],
   "source": [
    "import numpy as np\n",
    "import matplotlib.pyplot as plt\n",
    "import pandas as pd\n",
    "\n",
    "import os\n",
    "import sys\n",
    "sys.path.append('../src')\n",
    "\n",
    "from math_utils import *\n",
    "from model import *\n",
    "from utils import *"
   ]
  },
  {
   "cell_type": "code",
   "execution_count": 8,
   "metadata": {},
   "outputs": [],
   "source": [
    "# Generate random dataset\n",
    "np.random.seed(42)\n",
    "x_train = np.random.rand(2000, 3)\n",
    "\n",
    "# Invent a label based on the three input features\n",
    "y_train = np.exp(x_train[:, 0] + x_train[:, 1] - 2*x_train[:, 2] + np.random.randn(x_train.shape[0]) * 0.1)"
   ]
  },
  {
   "cell_type": "code",
   "execution_count": 9,
   "metadata": {},
   "outputs": [],
   "source": [
    "x_test = np.random.rand(100, 3)\n",
    "y_test = np.exp(x_test[:, 0] + x_test[:, 1] - 2*x_test[:, 2] + np.random.randn(x_test.shape[0]) * 0.1)"
   ]
  },
  {
   "cell_type": "code",
   "execution_count": 10,
   "metadata": {},
   "outputs": [],
   "source": [
    "model = ELM(3, 512, 1)\n",
    "model.fit(x_train, y_train.reshape(-1, 1))"
   ]
  },
  {
   "cell_type": "code",
   "execution_count": 11,
   "metadata": {},
   "outputs": [
    {
     "name": "stdout",
     "output_type": "stream",
     "text": [
      "(512,)\n",
      "Mean Squared Error: 0.018508073957538534\n",
      "(512,)\n",
      "Mean Absolute Error: 0.09223772885441796\n"
     ]
    }
   ],
   "source": [
    "# compute the prediction loss\n",
    "y_pred = model.predict(x_train)\n",
    "mse_error = mse(y_train, y_pred)\n",
    "print(f\"Mean Squared Error: {mse_error}\")\n",
    "\n",
    "# Calculate mean absolute error without sklearn\n",
    "y_pred = model.predict(x_train)\n",
    "mae_error = mae(y_train, y_pred)\n",
    "print(f\"Mean Absolute Error: {mae_error}\")"
   ]
  },
  {
   "cell_type": "code",
   "execution_count": 12,
   "metadata": {},
   "outputs": [
    {
     "name": "stdout",
     "output_type": "stream",
     "text": [
      "(512,)\n",
      "Mean Squared Error: 0.060899927133336244\n",
      "(512,)\n",
      "Mean Absolute Error: 0.14218538836102476\n"
     ]
    }
   ],
   "source": [
    "# compute the prediction loss\n",
    "y_pred = model.predict(x_test)\n",
    "mse_error = mse(y_pred, y_test)\n",
    "print(f\"Mean Squared Error: {mse_error}\")\n",
    "\n",
    "# Calculate mean absolute error without sklearn\n",
    "y_pred = model.predict(x_test)\n",
    "mae_error = mae(y_test, y_pred)\n",
    "print(f\"Mean Absolute Error: {mae_error}\")"
   ]
  }
 ],
 "metadata": {
  "kernelspec": {
   "display_name": "cm",
   "language": "python",
   "name": "python3"
  },
  "language_info": {
   "codemirror_mode": {
    "name": "ipython",
    "version": 3
   },
   "file_extension": ".py",
   "mimetype": "text/x-python",
   "name": "python",
   "nbconvert_exporter": "python",
   "pygments_lexer": "ipython3",
   "version": "3.10.12"
  }
 },
 "nbformat": 4,
 "nbformat_minor": 2
}
