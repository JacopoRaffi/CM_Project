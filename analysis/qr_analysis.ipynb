{
 "cells": [
  {
   "cell_type": "code",
   "execution_count": 1,
   "metadata": {},
   "outputs": [],
   "source": [
    "import numpy as np\n",
    "import matplotlib.pyplot as plt\n",
    "import pandas as pd\n",
    "\n",
    "import os\n",
    "import sys\n",
    "sys.path.append('../src')\n",
    "\n",
    "from math_utils import *\n",
    "from model import *"
   ]
  },
  {
   "cell_type": "code",
   "execution_count": 2,
   "metadata": {},
   "outputs": [],
   "source": [
    "# Generate random dataset\n",
    "np.random.seed(42)\n",
    "x_train = np.random.randn(1000, 3)\n",
    "\n",
    "# Invent a label based on the three input features\n",
    "y_train = x_train[:, 0] * 2 + x_train[:, 1] * -1.5 + x_train[:, 2] * 0.5"
   ]
  },
  {
   "cell_type": "code",
   "execution_count": 3,
   "metadata": {},
   "outputs": [],
   "source": [
    "x_test = np.random.randn(2000, 3)\n",
    "y_test = x_test[:, 0] * 2 + x_test[:, 1] * -1.5 + x_test[:, 2] * 0.5"
   ]
  },
  {
   "cell_type": "code",
   "execution_count": 4,
   "metadata": {},
   "outputs": [],
   "source": [
    "model = ELM(3, 200, init_method='normal')\n",
    "\n",
    "model.fit(x_train, y_train.reshape(-1, 1))"
   ]
  },
  {
   "cell_type": "code",
   "execution_count": 5,
   "metadata": {},
   "outputs": [
    {
     "name": "stdout",
     "output_type": "stream",
     "text": [
      "Mean Squared Error: 0.015241875727959672\n"
     ]
    }
   ],
   "source": [
    "# compute the prediction loss\n",
    "y_pred = model.predict(x_test)\n",
    "mse = np.mean((y_test - y_pred) ** 2)\n",
    "print(f\"Mean Squared Error: {mse}\")"
   ]
  },
  {
   "cell_type": "code",
   "execution_count": 6,
   "metadata": {},
   "outputs": [
    {
     "name": "stdout",
     "output_type": "stream",
     "text": [
      "Mean Absolute Error: 0.04717465591299475\n"
     ]
    }
   ],
   "source": [
    "# Calculate mean absolute error without sklearn\n",
    "y_pred_test = model.predict(x_test)\n",
    "mae = np.mean(np.abs(y_test - y_pred_test))\n",
    "print(f\"Mean Absolute Error: {mae}\")"
   ]
  },
  {
   "cell_type": "markdown",
   "metadata": {},
   "source": [
    "test QR"
   ]
  },
  {
   "cell_type": "code",
   "execution_count": 7,
   "metadata": {},
   "outputs": [
    {
     "data": {
      "text/plain": [
       "array([[-2.19750101,  1.26871389,  0.19022322, -0.3796245 ,  0.85715839],\n",
       "       [ 1.5246386 , -2.80191157,  0.43426365, -1.42664921,  0.49911051],\n",
       "       [ 0.1279272 ,  0.63572653, -0.49924761, -1.87324011, -0.45036819],\n",
       "       [ 0.40684764,  1.01539233, -1.1718313 ,  1.02706043, -0.64787229],\n",
       "       [ 0.36244988, -0.50989395,  0.18217063,  0.89187763, -1.22701408],\n",
       "       [-0.6799059 ,  0.18496259,  2.40158366, -0.86318971,  2.04013389],\n",
       "       [ 2.0044233 , -0.09731115, -0.29815253, -0.6920652 , -0.06820253],\n",
       "       [-1.40671943, -0.07623902,  1.49688027, -0.61108506, -0.2407243 ],\n",
       "       [-1.70114047,  0.37406209,  0.26448168,  0.06370236, -0.21682705],\n",
       "       [-0.29275792,  0.50190023, -0.0288166 ,  0.31497187,  0.21498282]])"
      ]
     },
     "execution_count": 7,
     "metadata": {},
     "output_type": "execute_result"
    }
   ],
   "source": [
    "m = 10\n",
    "n = 5\n",
    "X = np.random.randn(m, n)\n",
    "X"
   ]
  },
  {
   "cell_type": "code",
   "execution_count": 8,
   "metadata": {},
   "outputs": [],
   "source": [
    "householder_vectors, R = thin_QR(X)"
   ]
  },
  {
   "cell_type": "code",
   "execution_count": 9,
   "metadata": {},
   "outputs": [
    {
     "data": {
      "text/plain": [
       "[array([-0.87591786,  0.21167183,  0.01776066,  0.05648433,  0.0503204 ,\n",
       "        -0.09439412,  0.27828231, -0.19530063, -0.23617631, -0.04064478]),\n",
       " array([-0.9271335 ,  0.13301706,  0.23169833, -0.06250348, -0.02943307,\n",
       "         0.17193922, -0.14814644, -0.0905092 ,  0.06760515]),\n",
       " array([-0.72622074, -0.13833384,  0.02937933,  0.6050674 ,  0.16195235,\n",
       "         0.22518954, -0.09544872,  0.02116905]),\n",
       " array([ 0.78824455,  0.23214212, -0.42070043, -0.33935636, -0.13608281,\n",
       "         0.11586292,  0.02619595]),\n",
       " array([-0.89705128,  0.02027502,  0.02327757, -0.41632821, -0.13235739,\n",
       "         0.05914755])]"
      ]
     },
     "execution_count": 9,
     "metadata": {},
     "output_type": "execute_result"
    }
   ],
   "source": [
    "householder_vectors"
   ]
  },
  {
   "cell_type": "code",
   "execution_count": 10,
   "metadata": {},
   "outputs": [
    {
     "data": {
      "text/plain": [
       "array([[ 4.11159632e+00, -1.88420913e+00, -1.21805892e+00,\n",
       "        -2.38514498e-01, -6.73177208e-01],\n",
       "       [ 3.56824763e-17,  2.83664948e+00, -1.56067322e+00,\n",
       "         9.16477764e-01, -5.17779463e-01],\n",
       "       [ 1.19554094e-17, -2.78221576e-17,  2.47567260e+00,\n",
       "        -9.82135320e-01,  1.61906261e+00],\n",
       "       [ 1.88968360e-16, -3.50506849e-17, -7.81270262e-16,\n",
       "        -2.71626593e+00,  5.75151703e-01],\n",
       "       [ 5.10094558e-17, -1.20513093e-17,  2.31502841e-16,\n",
       "        -3.90872591e-18,  1.93817354e+00]])"
      ]
     },
     "execution_count": 10,
     "metadata": {},
     "output_type": "execute_result"
    }
   ],
   "source": [
    "R"
   ]
  },
  {
   "cell_type": "code",
   "execution_count": 11,
   "metadata": {},
   "outputs": [
    {
     "data": {
      "text/plain": [
       "array([[-2.19750101,  1.26871389,  0.19022322, -0.3796245 ,  0.85715839],\n",
       "       [ 1.5246386 , -2.80191157,  0.43426365, -1.42664921,  0.49911051],\n",
       "       [ 0.1279272 ,  0.63572653, -0.49924761, -1.87324011, -0.45036819],\n",
       "       [ 0.40684764,  1.01539233, -1.1718313 ,  1.02706043, -0.64787229],\n",
       "       [ 0.36244988, -0.50989395,  0.18217063,  0.89187763, -1.22701408],\n",
       "       [-0.6799059 ,  0.18496259,  2.40158366, -0.86318971,  2.04013389],\n",
       "       [ 2.0044233 , -0.09731115, -0.29815253, -0.6920652 , -0.06820253],\n",
       "       [-1.40671943, -0.07623902,  1.49688027, -0.61108506, -0.2407243 ],\n",
       "       [-1.70114047,  0.37406209,  0.26448168,  0.06370236, -0.21682705],\n",
       "       [-0.29275792,  0.50190023, -0.0288166 ,  0.31497187,  0.21498282]])"
      ]
     },
     "execution_count": 11,
     "metadata": {},
     "output_type": "execute_result"
    }
   ],
   "source": [
    "result = apply_householders_matrix(householder_vectors, np.vstack([R, np.zeros((m - n, n))]))\n",
    "result"
   ]
  },
  {
   "cell_type": "code",
   "execution_count": 12,
   "metadata": {},
   "outputs": [
    {
     "data": {
      "text/plain": [
       "array([[-2.19750101,  1.26871389,  0.19022322, -0.3796245 ,  0.85715839],\n",
       "       [ 1.5246386 , -2.80191157,  0.43426365, -1.42664921,  0.49911051],\n",
       "       [ 0.1279272 ,  0.63572653, -0.49924761, -1.87324011, -0.45036819],\n",
       "       [ 0.40684764,  1.01539233, -1.1718313 ,  1.02706043, -0.64787229],\n",
       "       [ 0.36244988, -0.50989395,  0.18217063,  0.89187763, -1.22701408],\n",
       "       [-0.6799059 ,  0.18496259,  2.40158366, -0.86318971,  2.04013389],\n",
       "       [ 2.0044233 , -0.09731115, -0.29815253, -0.6920652 , -0.06820253],\n",
       "       [-1.40671943, -0.07623902,  1.49688027, -0.61108506, -0.2407243 ],\n",
       "       [-1.70114047,  0.37406209,  0.26448168,  0.06370236, -0.21682705],\n",
       "       [-0.29275792,  0.50190023, -0.0288166 ,  0.31497187,  0.21498282]])"
      ]
     },
     "execution_count": 12,
     "metadata": {},
     "output_type": "execute_result"
    }
   ],
   "source": [
    "X"
   ]
  },
  {
   "cell_type": "markdown",
   "metadata": {},
   "source": [
    "test incremental qr"
   ]
  },
  {
   "cell_type": "code",
   "execution_count": 13,
   "metadata": {},
   "outputs": [
    {
     "data": {
      "text/plain": [
       "array([[ 1.12342729,  0.6769941 ,  0.19286184,  1.51842203,  0.42026853],\n",
       "       [ 1.30496269,  0.60694261, -1.84191908,  1.30483476,  0.13517624],\n",
       "       [-0.05195477,  0.28134835, -0.34498316,  0.22702886, -0.59187607],\n",
       "       [ 1.27427226, -0.11358811, -0.38258384, -0.92492582,  0.26877579],\n",
       "       [ 0.1871071 ,  0.38842461, -1.02725189, -1.6011812 ,  0.6255913 ],\n",
       "       [ 1.48464186, -1.02635362,  1.58944128,  0.28391106, -0.0070629 ],\n",
       "       [-0.3975487 , -1.38451802,  0.98772852, -0.77560636, -0.77980668],\n",
       "       [ 0.99192631, -1.88298345, -1.52359781, -0.01813424,  0.29328443],\n",
       "       [ 0.48473465, -0.30179849,  2.53036967, -0.22789256, -0.23078615],\n",
       "       [-0.79698667,  0.12390682,  0.61496123,  1.20357805, -1.48928426]])"
      ]
     },
     "execution_count": 13,
     "metadata": {},
     "output_type": "execute_result"
    }
   ],
   "source": [
    "m = 10\n",
    "n = 5\n",
    "X = np.random.randn(m, n)\n",
    "X"
   ]
  },
  {
   "cell_type": "code",
   "execution_count": 14,
   "metadata": {},
   "outputs": [],
   "source": [
    "householder_vectors, R = thin_QR(X)\n",
    "x = np.random.randn(m,1)\n",
    "y = np.random.randn(m,1)\n",
    "z = np.random.randn(m,1)"
   ]
  },
  {
   "cell_type": "code",
   "execution_count": 15,
   "metadata": {},
   "outputs": [],
   "source": [
    "householder_vectors, R = incr_QR(x, householder_vectors, R)\n",
    "householder_vectors, R = incr_QR(y, householder_vectors, R)\n",
    "householder_vectors, R = incr_QR(z, householder_vectors, R)"
   ]
  },
  {
   "cell_type": "code",
   "execution_count": 16,
   "metadata": {},
   "outputs": [
    {
     "data": {
      "text/plain": [
       "array([[ 1.12342729e+00,  6.76994097e-01,  1.92861843e-01,\n",
       "         1.51842203e+00,  4.20268529e-01, -2.45995338e-01,\n",
       "        -1.04692175e+00, -3.24619674e-01],\n",
       "       [ 1.30496269e+00,  6.06942608e-01, -1.84191908e+00,\n",
       "         1.30483476e+00,  1.35176241e-01,  4.46703611e-01,\n",
       "         6.77969971e-01,  2.37731728e-01],\n",
       "       [-5.19547709e-02,  2.81348347e-01, -3.44983162e-01,\n",
       "         2.27028860e-01, -5.91876066e-01,  5.87057535e-01,\n",
       "        -1.28472777e+00,  1.03078222e-01],\n",
       "       [ 1.27427226e+00, -1.13588114e-01, -3.82583843e-01,\n",
       "        -9.24925816e-01,  2.68775789e-01,  6.54865780e-03,\n",
       "        -3.31024334e-01,  2.39800190e-02],\n",
       "       [ 1.87107100e-01,  3.88424614e-01, -1.02725189e+00,\n",
       "        -1.60118120e+00,  6.25591303e-01,  5.42423970e-01,\n",
       "         4.54704396e-01, -7.50626822e-01],\n",
       "       [ 1.48464186e+00, -1.02635362e+00,  1.58944128e+00,\n",
       "         2.83911059e-01, -7.06290455e-03, -8.08963893e-01,\n",
       "        -6.61659345e-02, -2.99549411e-01],\n",
       "       [-3.97548697e-01, -1.38451802e+00,  9.87728516e-01,\n",
       "        -7.75606361e-01, -7.79806676e-01,  1.55790543e+00,\n",
       "         2.58887516e-01,  2.18359084e-03],\n",
       "       [ 9.91926310e-01, -1.88298345e+00, -1.52359781e+00,\n",
       "        -1.81342435e-02,  2.93284429e-01,  9.92628103e-01,\n",
       "        -1.06580271e+00, -1.37508523e+00],\n",
       "       [ 4.84734648e-01, -3.01798493e-01,  2.53036967e+00,\n",
       "        -2.27892559e-01, -2.30786152e-01, -1.34492779e+00,\n",
       "         5.94854373e-01, -4.62532966e-01],\n",
       "       [-7.96986669e-01,  1.23906817e-01,  6.14961232e-01,\n",
       "         1.20357805e+00, -1.48928426e+00, -1.07510305e+00,\n",
       "        -6.13211892e-01,  3.87679879e-01]])"
      ]
     },
     "execution_count": 16,
     "metadata": {},
     "output_type": "execute_result"
    }
   ],
   "source": [
    "result = apply_householders_matrix(householder_vectors, np.vstack([R, np.zeros((m-(n+3), (n+3)))]))\n",
    "result"
   ]
  },
  {
   "cell_type": "code",
   "execution_count": null,
   "metadata": {},
   "outputs": [
    {
     "data": {
      "text/plain": [
       "array([[ 1.12342729e+00,  6.76994097e-01,  1.92861843e-01,\n",
       "         1.51842203e+00,  4.20268529e-01, -2.45995338e-01,\n",
       "        -1.04692175e+00, -3.24619674e-01],\n",
       "       [ 1.30496269e+00,  6.06942608e-01, -1.84191908e+00,\n",
       "         1.30483476e+00,  1.35176241e-01,  4.46703611e-01,\n",
       "         6.77969971e-01,  2.37731728e-01],\n",
       "       [-5.19547709e-02,  2.81348347e-01, -3.44983162e-01,\n",
       "         2.27028860e-01, -5.91876066e-01,  5.87057535e-01,\n",
       "        -1.28472777e+00,  1.03078222e-01],\n",
       "       [ 1.27427226e+00, -1.13588114e-01, -3.82583843e-01,\n",
       "        -9.24925816e-01,  2.68775789e-01,  6.54865780e-03,\n",
       "        -3.31024334e-01,  2.39800190e-02],\n",
       "       [ 1.87107100e-01,  3.88424614e-01, -1.02725189e+00,\n",
       "        -1.60118120e+00,  6.25591303e-01,  5.42423970e-01,\n",
       "         4.54704396e-01, -7.50626822e-01],\n",
       "       [ 1.48464186e+00, -1.02635362e+00,  1.58944128e+00,\n",
       "         2.83911059e-01, -7.06290455e-03, -8.08963893e-01,\n",
       "        -6.61659345e-02, -2.99549411e-01],\n",
       "       [-3.97548697e-01, -1.38451802e+00,  9.87728516e-01,\n",
       "        -7.75606361e-01, -7.79806676e-01,  1.55790543e+00,\n",
       "         2.58887516e-01,  2.18359084e-03],\n",
       "       [ 9.91926310e-01, -1.88298345e+00, -1.52359781e+00,\n",
       "        -1.81342435e-02,  2.93284429e-01,  9.92628103e-01,\n",
       "        -1.06580271e+00, -1.37508523e+00],\n",
       "       [ 4.84734648e-01, -3.01798493e-01,  2.53036967e+00,\n",
       "        -2.27892559e-01, -2.30786152e-01, -1.34492779e+00,\n",
       "         5.94854373e-01, -4.62532966e-01],\n",
       "       [-7.96986669e-01,  1.23906817e-01,  6.14961232e-01,\n",
       "         1.20357805e+00, -1.48928426e+00, -1.07510305e+00,\n",
       "        -6.13211892e-01,  3.87679879e-01]])"
      ]
     },
     "execution_count": 17,
     "metadata": {},
     "output_type": "execute_result"
    }
   ],
   "source": [
    "# concat X, x, y, z\n",
    "X = np.hstack([X, x, y, z])\n",
    "X"
   ]
  },
  {
   "cell_type": "code",
   "execution_count": 18,
   "metadata": {},
   "outputs": [
    {
     "data": {
      "text/plain": [
       "array([[ True, False, False,  True, False, False, False, False],\n",
       "       [ True, False, False, False, False, False, False, False],\n",
       "       [False, False, False,  True,  True, False, False, False],\n",
       "       [ True, False, False, False, False, False, False, False],\n",
       "       [ True, False, False, False, False,  True,  True, False],\n",
       "       [ True, False, False, False, False, False, False, False],\n",
       "       [ True, False, False, False, False, False, False, False],\n",
       "       [False, False,  True, False, False, False, False, False],\n",
       "       [False, False, False, False, False, False, False, False],\n",
       "       [ True, False,  True, False,  True, False, False, False]])"
      ]
     },
     "execution_count": 18,
     "metadata": {},
     "output_type": "execute_result"
    }
   ],
   "source": [
    "np.equal(result, X)"
   ]
  },
  {
   "cell_type": "markdown",
   "metadata": {},
   "source": [
    "test dimensions"
   ]
  },
  {
   "cell_type": "code",
   "execution_count": null,
   "metadata": {},
   "outputs": [],
   "source": [
    "X = np.random.randn(1000, 10)\n",
    "Y = np.random.randn(1000, 50)\n",
    "Z = np.random.randn(1000, 500)"
   ]
  },
  {
   "cell_type": "code",
   "execution_count": 24,
   "metadata": {},
   "outputs": [],
   "source": [
    "householder_vectors, R = thin_QR(X)"
   ]
  },
  {
   "cell_type": "code",
   "execution_count": 25,
   "metadata": {},
   "outputs": [],
   "source": [
    "householder_vectors, R = thin_QR(Y)"
   ]
  },
  {
   "cell_type": "code",
   "execution_count": 26,
   "metadata": {},
   "outputs": [],
   "source": [
    "householder_vectors, R = thin_QR(Z)"
   ]
  }
 ],
 "metadata": {
  "kernelspec": {
   "display_name": "Python 3",
   "language": "python",
   "name": "python3"
  },
  "language_info": {
   "codemirror_mode": {
    "name": "ipython",
    "version": 3
   },
   "file_extension": ".py",
   "mimetype": "text/x-python",
   "name": "python",
   "nbconvert_exporter": "python",
   "pygments_lexer": "ipython3",
   "version": "3.12.2"
  }
 },
 "nbformat": 4,
 "nbformat_minor": 2
}
