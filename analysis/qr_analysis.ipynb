{
 "cells": [
  {
   "cell_type": "code",
   "execution_count": 113,
   "metadata": {},
   "outputs": [],
   "source": [
    "import numpy as np\n",
    "import matplotlib.pyplot as plt\n",
    "import pandas as pd\n",
    "\n",
    "import os\n",
    "import sys\n",
    "sys.path.append('../src')\n",
    "\n",
    "from math_utils import *"
   ]
  },
  {
   "cell_type": "code",
   "execution_count": 114,
   "metadata": {},
   "outputs": [],
   "source": [
    "m = 10\n",
    "n = 3\n",
    "A = np.random.rand(m, n)\n",
    "h, R = thin_QR(A)"
   ]
  },
  {
   "cell_type": "code",
   "execution_count": 116,
   "metadata": {},
   "outputs": [],
   "source": [
    "def incr_QR(x_new:np.ndarray, householder_vectors:list, R:np.ndarray) -> tuple:\n",
    "    '''\n",
    "    Incremental QR decomposition of matrix X\n",
    "\n",
    "    Parameters:\n",
    "    -----------\n",
    "    x_new: np.ndarray\n",
    "        The new feature colunmn added to the original matrix\n",
    "    householder_vectors: list\n",
    "        Householder vectors from the previous QR factorization of X\n",
    "    R: np.ndarray\n",
    "        R matrix from the previous QR factorization of X\n",
    "\n",
    "    Returns:\n",
    "    --------\n",
    "    tuple\n",
    "        The updated list of Householder vectors and the new R matrix (only the upper triangular part)\n",
    "    '''\n",
    "    \n",
    "    m, n = x_new.shape[0], len(householder_vectors)\n",
    "\n",
    "    z = apply_householders_vector(householder_vectors, x_new, reverse=True)\n",
    "    z0, z1 = z[:n], z[n:]\n",
    "\n",
    "    # Compute the new Householder vector\n",
    "    norm_z1 = np.linalg.norm(z1) \n",
    "    u_new = z1.copy()\n",
    "    u_new[0] += np.sign(z1[0]) * norm_z1\n",
    "    u_new /= np.linalg.norm(u_new) #TODO: controlla stabilità numerica (se A[i,i] è vicino a 0 trova soluzione)\n",
    "    \n",
    "    z1 -= 2*np.outer(u_new, u_new.T @ z1)\n",
    "\n",
    "    return householder_vectors + [u_new], np.block([[R, z0], [np.zeros((m-n, n)), z1]])[:n+1, :]"
   ]
  },
  {
   "cell_type": "code",
   "execution_count": 117,
   "metadata": {},
   "outputs": [],
   "source": [
    "# append column to A\n",
    "x = np.random.randn(m, 1)\n",
    "A = np.hstack((A, x))\n",
    "h, R_new = incr_QR(x, h, R)\n",
    "R_new = np.vstack((R_new, np.zeros((m-n-1, n+1))))"
   ]
  },
  {
   "cell_type": "code",
   "execution_count": 118,
   "metadata": {},
   "outputs": [],
   "source": [
    "AA = apply_householders_matrix(h, R_new)"
   ]
  },
  {
   "cell_type": "code",
   "execution_count": 119,
   "metadata": {},
   "outputs": [
    {
     "data": {
      "text/plain": [
       "array([[ 0.28143425,  0.00874097,  0.7985617 , -0.0159366 ],\n",
       "       [ 0.41565585,  0.02328141,  0.79490851,  0.52524936],\n",
       "       [ 0.68553976,  0.28198344,  0.59894979, -0.66923419],\n",
       "       [ 0.23125184,  0.06241724,  0.82817136,  1.09968359],\n",
       "       [ 0.81993133,  0.55247978,  0.58187991,  0.22369608],\n",
       "       [ 0.77870439,  0.63958352,  0.8511441 , -0.08467809],\n",
       "       [ 0.31236675,  0.0862417 ,  0.67998215,  1.16741251],\n",
       "       [ 0.11598731,  0.80655436,  0.25531416,  0.10376153],\n",
       "       [ 0.77348721,  0.86407319,  0.10582485,  1.61715615],\n",
       "       [ 0.81928333,  0.08728759,  0.29084043, -1.29280479]])"
      ]
     },
     "execution_count": 119,
     "metadata": {},
     "output_type": "execute_result"
    }
   ],
   "source": [
    "AA"
   ]
  },
  {
   "cell_type": "code",
   "execution_count": 120,
   "metadata": {},
   "outputs": [
    {
     "data": {
      "text/plain": [
       "array([[ 0.28143425,  0.00874097,  0.7985617 , -1.25236116],\n",
       "       [ 0.41565585,  0.02328141,  0.79490851, -0.12995654],\n",
       "       [ 0.68553976,  0.28198344,  0.59894979, -0.22127302],\n",
       "       [ 0.23125184,  0.06241724,  0.82817136,  0.61491551],\n",
       "       [ 0.81993133,  0.55247978,  0.58187991, -0.04999885],\n",
       "       [ 0.77870439,  0.63958352,  0.8511441 , -0.51585589],\n",
       "       [ 0.31236675,  0.0862417 ,  0.67998215,  0.77728881],\n",
       "       [ 0.11598731,  0.80655436,  0.25531416,  0.01633507],\n",
       "       [ 0.77348721,  0.86407319,  0.10582485,  1.65234186],\n",
       "       [ 0.81928333,  0.08728759,  0.29084043, -1.42654153]])"
      ]
     },
     "execution_count": 120,
     "metadata": {},
     "output_type": "execute_result"
    }
   ],
   "source": [
    "A"
   ]
  }
 ],
 "metadata": {
  "kernelspec": {
   "display_name": "cm",
   "language": "python",
   "name": "python3"
  },
  "language_info": {
   "codemirror_mode": {
    "name": "ipython",
    "version": 3
   },
   "file_extension": ".py",
   "mimetype": "text/x-python",
   "name": "python",
   "nbconvert_exporter": "python",
   "pygments_lexer": "ipython3",
   "version": "3.10.12"
  }
 },
 "nbformat": 4,
 "nbformat_minor": 2
}
