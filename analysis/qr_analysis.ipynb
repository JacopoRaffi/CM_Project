{
 "cells": [
  {
   "cell_type": "code",
   "execution_count": 6,
   "metadata": {},
   "outputs": [],
   "source": [
    "import numpy as np\n",
    "import matplotlib.pyplot as plt\n",
    "import pandas as pd\n",
    "import time\n",
    "\n",
    "import os\n",
    "import sys\n",
    "sys.path.append('../src')\n",
    "\n",
    "from math_utils import *\n",
    "from model import *"
   ]
  },
  {
   "cell_type": "markdown",
   "metadata": {},
   "source": [
    "# QR (m $\\geq$ n)"
   ]
  },
  {
   "cell_type": "markdown",
   "metadata": {},
   "source": [
    "## Complexity Analysis\n",
    "\n",
    "Show that our implementation scale linearly in \"m\""
   ]
  },
  {
   "cell_type": "code",
   "execution_count": 14,
   "metadata": {},
   "outputs": [
    {
     "data": {
      "text/plain": [
       "Text(0, 0.5, 'Time (s)')"
      ]
     },
     "execution_count": 14,
     "metadata": {},
     "output_type": "execute_result"
    },
    {
     "data": {
      "image/png": "[encoded data removed]",
      "text/plain": [
       "<Figure size 640x480 with 1 Axes>"
      ]
     },
     "metadata": {},
     "output_type": "display_data"
    }
   ],
   "source": [
    "n = 512 # represent the number of neurons\n",
    "trials = 5 #numbber of trials for each value of m\n",
    "\n",
    "START = 1000\n",
    "END = 10001\n",
    "STEP = 1000\n",
    "\n",
    "mean_and_variance = [] # list of tuple (mean, variance) for each value of m\n",
    "\n",
    "for m in range(START, END, STEP):\n",
    "    times_trials = []\n",
    "    for _ in range(trials):\n",
    "        # generate random data\n",
    "        X = np.random.randn(m, n)\n",
    "        # compute the mean and variance of the data\n",
    "\n",
    "        start_time = time.time()\n",
    "        _, _ = thin_QR(X)\n",
    "        end_time = time.time()\n",
    "        times_trials.append(end_time - start_time)\n",
    "        \n",
    "    mean_and_variance.append((np.mean(times_trials), np.var(times_trials)))\n",
    "\n",
    "# plot the mean and variance of the data\n",
    "plt.errorbar(range(START, END, STEP), [x[0] for x in mean_and_variance], yerr=[x[1] for x in mean_and_variance], fmt='o')\n",
    "#TODO: vedere se riesci a fare la secante diagonale (complessità teoretica)\n",
    "plt.xlabel('m')\n",
    "plt.ylabel('Time (s)')"
   ]
  },
  {
   "cell_type": "markdown",
   "metadata": {},
   "source": [
    "## Accuracy Analysis\n",
    "\n",
    "Show that our implementatio holds the theoretical accuracy/stability analysis. We use an \"a posteriori\" test exploiting the residual:\n",
    "$||X - QR||$"
   ]
  },
  {
   "cell_type": "code",
   "execution_count": null,
   "metadata": {},
   "outputs": [
    {
     "name": "stdout",
     "output_type": "stream",
     "text": [
      "Residual ||X - QR||: 1.8633161998928364e-15\n"
     ]
    }
   ],
   "source": [
    "# Perform QR decomposition\n",
    "m, n = 1000, 500\n",
    "X = np.random.rand(m, n)\n",
    "h, R = thin_QR(X)\n",
    "\n",
    "# Compute the residual\n",
    "R = np.vstack((R, np.zeros((m-n, n))))\n",
    "residual = np.linalg.norm(X - apply_householders_matrix(h, R)) / np.linalg.norm(X) #TODO: controllare se bisogna dividere per la norma di X\n",
    "\n",
    "# Display the residual\n",
    "print(f\"Residual ||X - QR||: {residual}\")"
   ]
  },
  {
   "cell_type": "markdown",
   "metadata": {},
   "source": [
    "# Least-Square Problem"
   ]
  },
  {
   "cell_type": "markdown",
   "metadata": {},
   "source": [
    "## Complexity Analysis"
   ]
  },
  {
   "cell_type": "markdown",
   "metadata": {},
   "source": [
    "## Accuracy Analysis"
   ]
  }
 ],
 "metadata": {
  "kernelspec": {
   "display_name": "cm",
   "language": "python",
   "name": "python3"
  },
  "language_info": {
   "codemirror_mode": {
    "name": "ipython",
    "version": 3
   },
   "file_extension": ".py",
   "mimetype": "text/x-python",
   "name": "python",
   "nbconvert_exporter": "python",
   "pygments_lexer": "ipython3",
   "version": "3.10.12"
  }
 },
 "nbformat": 4,
 "nbformat_minor": 2
}
