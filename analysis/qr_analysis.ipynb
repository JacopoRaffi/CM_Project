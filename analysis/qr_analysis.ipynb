{
 "cells": [
  {
   "cell_type": "code",
   "execution_count": 7,
   "metadata": {},
   "outputs": [],
   "source": [
    "import numpy as np\n",
    "import matplotlib.pyplot as plt\n",
    "import pandas as pd\n",
    "\n",
    "import os\n",
    "import sys\n",
    "sys.path.append('../src')\n",
    "\n",
    "from math_utils import *\n",
    "from model import *\n",
    "from utils import *"
   ]
  },
  {
   "cell_type": "code",
   "execution_count": 8,
   "metadata": {},
   "outputs": [],
   "source": [
    "# Generate random dataset\n",
    "np.random.seed(42)\n",
    "x_train = np.random.randn(50, 3)\n",
    "\n",
    "# Invent a label based on the three input features\n",
    "y_train = x_train[:, 0] * 2 + x_train[:, 1] * -1.5 + x_train[:, 2] * 0.5"
   ]
  },
  {
   "cell_type": "code",
   "execution_count": 9,
   "metadata": {},
   "outputs": [],
   "source": [
    "x_test = np.random.randn(100, 3)\n",
    "y_test = x_test[:, 0] * 2 + x_test[:, 1] * -1.5 + x_test[:, 2] * 0.5"
   ]
  },
  {
   "cell_type": "code",
   "execution_count": 10,
   "metadata": {},
   "outputs": [],
   "source": [
    "model = ELM(3, 100, 1)\n",
    "\n",
    "model.fit(x_train, y_train.reshape(-1, 1))"
   ]
  },
  {
   "cell_type": "code",
   "execution_count": 11,
   "metadata": {},
   "outputs": [
    {
     "name": "stdout",
     "output_type": "stream",
     "text": [
      "(100,)\n",
      "Mean Squared Error: 6.627862258901758\n"
     ]
    }
   ],
   "source": [
    "# compute the prediction loss\n",
    "y_pred = model.predict(x_test)\n",
    "mse = mse(y_test, y_pred)\n",
    "print(f\"Mean Squared Error: {mse}\")"
   ]
  },
  {
   "cell_type": "code",
   "execution_count": 12,
   "metadata": {},
   "outputs": [
    {
     "name": "stdout",
     "output_type": "stream",
     "text": [
      "(100,)\n",
      "Mean Absolute Error: 2.120372515237223\n"
     ]
    }
   ],
   "source": [
    "# Calculate mean absolute error without sklearn\n",
    "y_pred_test = model.predict(x_test)\n",
    "mae = mae(y_test, y_pred_test)\n",
    "print(f\"Mean Absolute Error: {mae}\")"
   ]
  }
 ],
 "metadata": {
  "kernelspec": {
   "display_name": "cm",
   "language": "python",
   "name": "python3"
  },
  "language_info": {
   "codemirror_mode": {
    "name": "ipython",
    "version": 3
   },
   "file_extension": ".py",
   "mimetype": "text/x-python",
   "name": "python",
   "nbconvert_exporter": "python",
   "pygments_lexer": "ipython3",
   "version": "3.10.12"
  }
 },
 "nbformat": 4,
 "nbformat_minor": 2
}
