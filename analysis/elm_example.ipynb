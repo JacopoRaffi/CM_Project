{
 "cells": [
  {
   "cell_type": "code",
   "execution_count": 1,
   "metadata": {},
   "outputs": [],
   "source": [
    "import numpy as np\n",
    "import matplotlib.pyplot as plt\n",
    "import pandas as pd\n",
    "import time\n",
    "import random\n",
    "\n",
    "import os\n",
    "import sys\n",
    "sys.path.append('../src')\n",
    "\n",
    "from math_utils import *\n",
    "from model import *\n",
    "from utils import *"
   ]
  },
  {
   "cell_type": "code",
   "execution_count": null,
   "metadata": {},
   "outputs": [
    {
     "data": {
      "text/plain": [
       "((927, 9), (103, 9), (1030, 9))"
      ]
     },
     "execution_count": 9,
     "metadata": {},
     "output_type": "execute_result"
    }
   ],
   "source": [
    "DATA_PATH = '../Concrete_Data.xls'\n",
    "SEED = 42\n",
    "data = pd.read_excel(DATA_PATH).sample(frac=1, random_state=SEED).to_numpy() #converting from excel to numpy array(meanwhile shuffling)\n",
    "\n",
    "dev_len, test_len = 0.9*(len(data)), 0.1*(len(data))\n",
    "dev_set, test_set = data[:int(dev_len)], data[int(dev_len):]\n",
    "\n",
    "train_len, val_len = 0.8*(len(dev_set)), 0.2*(len(dev_set))\n",
    "train_set, val_set = dev_set[:int(train_len)], dev_set[int(train_len):]"
   ]
  }
 ],
 "metadata": {
  "kernelspec": {
   "display_name": "cm",
   "language": "python",
   "name": "python3"
  },
  "language_info": {
   "codemirror_mode": {
    "name": "ipython",
    "version": 3
   },
   "file_extension": ".py",
   "mimetype": "text/x-python",
   "name": "python",
   "nbconvert_exporter": "python",
   "pygments_lexer": "ipython3",
   "version": "3.10.12"
  }
 },
 "nbformat": 4,
 "nbformat_minor": 2
}
